{
 "cells": [
  {
   "metadata": {},
   "cell_type": "code",
   "outputs": [],
   "execution_count": null,
   "source": "",
   "id": "af5f5b60a558d668"
  },
  {
   "metadata": {},
   "cell_type": "markdown",
   "source": [
    "## 질문1. optim.SGD의 역할이 무엇인지?\n",
    "## 질문2. 왜 model.parameters(), lr=0.01 이런 값들을 argument로 받는지?\n",
    "## 질문3. nn.MSELoss() 역할이 무엇인지?\n",
    "\n",
    "\n",
    "## 1. `optimizer = optim.SGD(model.parameters(), lr=0.01)`\n",
    "\n",
    "### `optim.SGD`의 역할:\n",
    "- **SGD (Stochastic Gradient Descent)** 옵티마이저입니다\n",
    "- 모델의 파라미터(가중치와 편향)를 업데이트하는 역할을 합니다\n",
    "- 손실 함수의 그래디언트를 계산한 후, 이를 사용해 파라미터를 개선하는 방향으로 조정합니다\n",
    "\n",
    "### 파라미터 설명:\n",
    "- **`model.parameters()`**:\n",
    "  - 모델의 모든 학습 가능한 파라미터(가중치, 편향)를 반환합니다\n",
    "  - 옵티마이저가 어떤 파라미터들을 업데이트할지 알려줍니다\n",
    "  - 예: `nn.Linear(1, 1)`의 경우 가중치 1개와 편향 1개\n",
    "\n",
    "- **`lr=0.01`**:\n",
    "  - **학습률(Learning Rate)**입니다\n",
    "  - 파라미터를 얼마나 크게 업데이트할지 결정합니다\n",
    "  - 값이 클수록 빠르게 학습하지만 불안정할 수 있고, 작을수록 안정적이지만 느리게 학습합니다\n",
    "\n",
    "## 2. `criterion = nn.MSELoss()`\n",
    "\n",
    "### `nn.MSELoss()`의 역할:\n",
    "- **MSE (Mean Squared Error)** 손실 함수입니다\n",
    "- 예측값과 실제값 간의 차이를 측정하는 지표입니다\n",
    "- 공식: `MSE = (1/n) * Σ(예측값 - 실제값)²`\n",
    "\n",
    "### 사용 목적:\n",
    "- 모델의 예측이 얼마나 정확한지 수치화합니다\n",
    "- 회귀 문제에서 주로 사용됩니다\n",
    "- 값이 작을수록 모델의 성능이 좋다는 의미입니다\n",
    "\n",
    "## 학습 과정에서의 역할:\n",
    "\n",
    "```python\n",
    "# 학습 루프에서 이들이 어떻게 사용되는지:\n",
    "for _ in range(500):\n",
    "    optimizer.zero_grad()    # 이전 그래디언트 초기화\n",
    "    outputs = model(xs)      # 예측값 계산\n",
    "    loss = criterion(outputs, ys)  # 손실 계산 (MSE)\n",
    "    loss.backward()          # 그래디언트 계산\n",
    "    optimizer.step()         # SGD로 파라미터 업데이트\n",
    "```\n",
    "\n",
    "\n",
    "이 두 구성요소는 딥러닝 모델 학습의 핵심으로, **손실 함수**가 \"얼마나 틀렸는지\"를 측정하고, **옵티마이저**가 \"어떻게 개선할지\"를 결정합니다."
   ],
   "id": "8520b08f3f1e03c4"
  },
  {
   "metadata": {},
   "cell_type": "code",
   "outputs": [],
   "execution_count": null,
   "source": "",
   "id": "a80a175a8bb5e7e5"
  }
 ],
 "metadata": {
  "kernelspec": {
   "display_name": "Python 3",
   "language": "python",
   "name": "python3"
  },
  "language_info": {
   "codemirror_mode": {
    "name": "ipython",
    "version": 2
   },
   "file_extension": ".py",
   "mimetype": "text/x-python",
   "name": "python",
   "nbconvert_exporter": "python",
   "pygments_lexer": "ipython2",
   "version": "2.7.6"
  }
 },
 "nbformat": 4,
 "nbformat_minor": 5
}
